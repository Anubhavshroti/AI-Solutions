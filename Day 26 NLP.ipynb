{
 "cells": [
  {
   "cell_type": "code",
   "execution_count": 1,
   "id": "d1aa6a92",
   "metadata": {},
   "outputs": [
    {
     "name": "stdout",
     "output_type": "stream",
     "text": [
      "Collecting SpeechRecognition\n",
      "  Downloading SpeechRecognition-3.10.0-py2.py3-none-any.whl (32.8 MB)\n",
      "\u001b[2K     \u001b[90m━━━━━━━━━━━━━━━━━━━━━━━━━━━━━━━━━━━━━━━━\u001b[0m \u001b[32m32.8/32.8 MB\u001b[0m \u001b[31m2.5 MB/s\u001b[0m eta \u001b[36m0:00:00\u001b[0m00:01\u001b[0m00:01\u001b[0m\n",
      "\u001b[?25hRequirement already satisfied: requests>=2.26.0 in /Users/anubhavshroti/Documents/Anaconda/anaconda3/lib/python3.11/site-packages (from SpeechRecognition) (2.31.0)\n",
      "Requirement already satisfied: charset-normalizer<4,>=2 in /Users/anubhavshroti/Documents/Anaconda/anaconda3/lib/python3.11/site-packages (from requests>=2.26.0->SpeechRecognition) (2.0.4)\n",
      "Requirement already satisfied: idna<4,>=2.5 in /Users/anubhavshroti/Documents/Anaconda/anaconda3/lib/python3.11/site-packages (from requests>=2.26.0->SpeechRecognition) (3.4)\n",
      "Requirement already satisfied: urllib3<3,>=1.21.1 in /Users/anubhavshroti/Documents/Anaconda/anaconda3/lib/python3.11/site-packages (from requests>=2.26.0->SpeechRecognition) (1.26.16)\n",
      "Requirement already satisfied: certifi>=2017.4.17 in /Users/anubhavshroti/Documents/Anaconda/anaconda3/lib/python3.11/site-packages (from requests>=2.26.0->SpeechRecognition) (2023.7.22)\n",
      "Installing collected packages: SpeechRecognition\n",
      "Successfully installed SpeechRecognition-3.10.0\n",
      "Note: you may need to restart the kernel to use updated packages.\n"
     ]
    }
   ],
   "source": [
    "pip install SpeechRecognition"
   ]
  },
  {
   "cell_type": "code",
   "execution_count": 7,
   "id": "e0ff604b",
   "metadata": {},
   "outputs": [
    {
     "name": "stdout",
     "output_type": "stream",
     "text": [
      "Collecting pyaudio\n",
      "  Using cached PyAudio-0.2.14.tar.gz (47 kB)\n",
      "  Installing build dependencies ... \u001b[?25ldone\n",
      "\u001b[?25h  Getting requirements to build wheel ... \u001b[?25ldone\n",
      "\u001b[?25h  Preparing metadata (pyproject.toml) ... \u001b[?25ldone\n",
      "\u001b[?25hBuilding wheels for collected packages: pyaudio\n",
      "  Building wheel for pyaudio (pyproject.toml) ... \u001b[?25lerror\n",
      "  \u001b[1;31merror\u001b[0m: \u001b[1msubprocess-exited-with-error\u001b[0m\n",
      "  \n",
      "  \u001b[31m×\u001b[0m \u001b[32mBuilding wheel for pyaudio \u001b[0m\u001b[1;32m(\u001b[0m\u001b[32mpyproject.toml\u001b[0m\u001b[1;32m)\u001b[0m did not run successfully.\n",
      "  \u001b[31m│\u001b[0m exit code: \u001b[1;36m1\u001b[0m\n",
      "  \u001b[31m╰─>\u001b[0m \u001b[31m[18 lines of output]\u001b[0m\n",
      "  \u001b[31m   \u001b[0m running bdist_wheel\n",
      "  \u001b[31m   \u001b[0m running build\n",
      "  \u001b[31m   \u001b[0m running build_py\n",
      "  \u001b[31m   \u001b[0m creating build\n",
      "  \u001b[31m   \u001b[0m creating build/lib.macosx-11.1-arm64-cpython-311\n",
      "  \u001b[31m   \u001b[0m creating build/lib.macosx-11.1-arm64-cpython-311/pyaudio\n",
      "  \u001b[31m   \u001b[0m copying src/pyaudio/__init__.py -> build/lib.macosx-11.1-arm64-cpython-311/pyaudio\n",
      "  \u001b[31m   \u001b[0m running build_ext\n",
      "  \u001b[31m   \u001b[0m building 'pyaudio._portaudio' extension\n",
      "  \u001b[31m   \u001b[0m creating build/temp.macosx-11.1-arm64-cpython-311\n",
      "  \u001b[31m   \u001b[0m creating build/temp.macosx-11.1-arm64-cpython-311/src\n",
      "  \u001b[31m   \u001b[0m creating build/temp.macosx-11.1-arm64-cpython-311/src/pyaudio\n",
      "  \u001b[31m   \u001b[0m clang -DNDEBUG -fwrapv -O2 -Wall -fPIC -O2 -isystem /Users/anubhavshroti/Documents/Anaconda/anaconda3/include -arch arm64 -fPIC -O2 -isystem /Users/anubhavshroti/Documents/Anaconda/anaconda3/include -arch arm64 -DMACOS=1 -I/usr/local/include -I/usr/include -I/opt/homebrew/include -I/Users/anubhavshroti/Documents/Anaconda/anaconda3/include/python3.11 -c src/pyaudio/device_api.c -o build/temp.macosx-11.1-arm64-cpython-311/src/pyaudio/device_api.o\n",
      "  \u001b[31m   \u001b[0m src/pyaudio/device_api.c:9:10: fatal error: 'portaudio.h' file not found\n",
      "  \u001b[31m   \u001b[0m #include \"portaudio.h\"\n",
      "  \u001b[31m   \u001b[0m          ^~~~~~~~~~~~~\n",
      "  \u001b[31m   \u001b[0m 1 error generated.\n",
      "  \u001b[31m   \u001b[0m error: command '/usr/bin/clang' failed with exit code 1\n",
      "  \u001b[31m   \u001b[0m \u001b[31m[end of output]\u001b[0m\n",
      "  \n",
      "  \u001b[1;35mnote\u001b[0m: This error originates from a subprocess, and is likely not a problem with pip.\n",
      "\u001b[31m  ERROR: Failed building wheel for pyaudio\u001b[0m\u001b[31m\n",
      "\u001b[0m\u001b[?25hFailed to build pyaudio\n",
      "\u001b[31mERROR: Could not build wheels for pyaudio, which is required to install pyproject.toml-based projects\u001b[0m\u001b[31m\n",
      "\u001b[0mNote: you may need to restart the kernel to use updated packages.\n"
     ]
    }
   ],
   "source": [
    "pip install pyaudio\n"
   ]
  },
  {
   "cell_type": "code",
   "execution_count": 3,
   "id": "ad3c2716",
   "metadata": {},
   "outputs": [
    {
     "name": "stdout",
     "output_type": "stream",
     "text": [
      "Collecting pipwin\n",
      "  Downloading pipwin-0.5.2.tar.gz (7.9 kB)\n",
      "  Preparing metadata (setup.py) ... \u001b[?25ldone\n",
      "\u001b[?25hRequirement already satisfied: docopt in /Users/anubhavshroti/Documents/Anaconda/anaconda3/lib/python3.11/site-packages (from pipwin) (0.6.2)\n",
      "Requirement already satisfied: requests in /Users/anubhavshroti/Documents/Anaconda/anaconda3/lib/python3.11/site-packages (from pipwin) (2.31.0)\n",
      "Collecting pyprind (from pipwin)\n",
      "  Downloading PyPrind-2.11.3-py2.py3-none-any.whl (8.4 kB)\n",
      "Requirement already satisfied: six in /Users/anubhavshroti/Documents/Anaconda/anaconda3/lib/python3.11/site-packages (from pipwin) (1.16.0)\n",
      "Requirement already satisfied: beautifulsoup4>=4.9.0 in /Users/anubhavshroti/Documents/Anaconda/anaconda3/lib/python3.11/site-packages (from pipwin) (4.12.2)\n",
      "Collecting js2py (from pipwin)\n",
      "  Downloading Js2Py-0.74-py3-none-any.whl (1.0 MB)\n",
      "\u001b[2K     \u001b[90m━━━━━━━━━━━━━━━━━━━━━━━━━━━━━━━━━━━━━━━━\u001b[0m \u001b[32m1.0/1.0 MB\u001b[0m \u001b[31m1.6 MB/s\u001b[0m eta \u001b[36m0:00:00\u001b[0m00:01\u001b[0m00:01\u001b[0m0m\n",
      "\u001b[?25hRequirement already satisfied: packaging in /Users/anubhavshroti/Documents/Anaconda/anaconda3/lib/python3.11/site-packages (from pipwin) (23.1)\n",
      "Collecting pySmartDL>=1.3.1 (from pipwin)\n",
      "  Downloading pySmartDL-1.3.4-py3-none-any.whl (20 kB)\n",
      "Requirement already satisfied: soupsieve>1.2 in /Users/anubhavshroti/Documents/Anaconda/anaconda3/lib/python3.11/site-packages (from beautifulsoup4>=4.9.0->pipwin) (2.4)\n",
      "Collecting tzlocal>=1.2 (from js2py->pipwin)\n",
      "  Downloading tzlocal-5.2-py3-none-any.whl.metadata (7.8 kB)\n",
      "Collecting pyjsparser>=2.5.1 (from js2py->pipwin)\n",
      "  Downloading pyjsparser-2.7.1.tar.gz (24 kB)\n",
      "  Preparing metadata (setup.py) ... \u001b[?25ldone\n",
      "\u001b[?25hRequirement already satisfied: charset-normalizer<4,>=2 in /Users/anubhavshroti/Documents/Anaconda/anaconda3/lib/python3.11/site-packages (from requests->pipwin) (2.0.4)\n",
      "Requirement already satisfied: idna<4,>=2.5 in /Users/anubhavshroti/Documents/Anaconda/anaconda3/lib/python3.11/site-packages (from requests->pipwin) (3.4)\n",
      "Requirement already satisfied: urllib3<3,>=1.21.1 in /Users/anubhavshroti/Documents/Anaconda/anaconda3/lib/python3.11/site-packages (from requests->pipwin) (1.26.16)\n",
      "Requirement already satisfied: certifi>=2017.4.17 in /Users/anubhavshroti/Documents/Anaconda/anaconda3/lib/python3.11/site-packages (from requests->pipwin) (2023.7.22)\n",
      "Downloading tzlocal-5.2-py3-none-any.whl (17 kB)\n",
      "Building wheels for collected packages: pipwin, pyjsparser\n",
      "  Building wheel for pipwin (setup.py) ... \u001b[?25ldone\n",
      "\u001b[?25h  Created wheel for pipwin: filename=pipwin-0.5.2-py2.py3-none-any.whl size=8774 sha256=09020ac81ce81582fa637ccb3b790deec18b4a2506afdf1812c4954a49094594\n",
      "  Stored in directory: /Users/anubhavshroti/Library/Caches/pip/wheels/07/45/2e/51ee464b7c3407327439df34c2fc62f978a1e5084aaf23d201\n",
      "  Building wheel for pyjsparser (setup.py) ... \u001b[?25ldone\n",
      "\u001b[?25h  Created wheel for pyjsparser: filename=pyjsparser-2.7.1-py3-none-any.whl size=25983 sha256=60ce3fe992dab251cbd4c6711829dabba968c5175a18d4d51c3837f4b5f8034b\n",
      "  Stored in directory: /Users/anubhavshroti/Library/Caches/pip/wheels/a5/9a/30/1003e89ab4555b81840ca46d361bf184f1e6ad880cae3b62a9\n",
      "Successfully built pipwin pyjsparser\n",
      "Installing collected packages: pySmartDL, pyprind, pyjsparser, tzlocal, js2py, pipwin\n",
      "Successfully installed js2py-0.74 pipwin-0.5.2 pySmartDL-1.3.4 pyjsparser-2.7.1 pyprind-2.11.3 tzlocal-5.2\n",
      "Note: you may need to restart the kernel to use updated packages.\n"
     ]
    }
   ],
   "source": [
    "pip install pipwin"
   ]
  },
  {
   "cell_type": "code",
   "execution_count": 6,
   "id": "96b64b44",
   "metadata": {},
   "outputs": [
    {
     "name": "stdout",
     "output_type": "stream",
     "text": [
      "/Users/anubhavshroti/Documents/Anaconda/anaconda3/lib/python3.11/site-packages/pipwin/command.py:66: UserWarning: Found a non Windows system. Package installation might not work.\n",
      "  warn(\"Found a non Windows system. Package installation might not work.\")\n",
      "Building cache. Hang on . . .\n",
      "Done\n",
      "Package `pyaudio` found in cache\n",
      "Downloading package . . .\n",
      "https://download.lfd.uci.edu/pythonlibs/archived/PyAudio-0.2.11-cp311-cp311-win_amd64.whl\n",
      "PyAudio-0.2.11-cp311-cp311-win_amd64.whl\n",
      "[*] 0 bytes / 111 kB @ 0 bytes/s [------------------] [0.0%, 0s left]   [*] 0 bytes / 111 kB @ 0 bytes/s [------------------] [0.0%, 0s left]   [*] 0 bytes / 111 kB @ 0 bytes/s [------------------] [0.0%, 0s left]   [*] 0 bytes / 111 kB @ 0 bytes/s [------------------] [0.0%, 0s left]   [*] 0 bytes / 111 kB @ 0 bytes/s [------------------] [0.0%, 0s left]   [*] 0 bytes / 111 kB @ 0 bytes/s [------------------] [0.0%, 0s left]   [*] 0 bytes / 111 kB @ 0 bytes/s [------------------] [0.0%, 0s left]   [*] 0 bytes / 111 kB @ 0 bytes/s [------------------] [0.0%, 0s left]   [*] 0 bytes / 111 kB @ 0 bytes/s [------------------] [0.0%, 0s left]   [*] 0 bytes / 111 kB @ 0 bytes/s [------------------] [0.0%, 0s left]   [*] 0 bytes / 111 kB @ 0 bytes/s [------------------] [0.0%, 0s left]   [*] 0 bytes / 111 kB @ 0 bytes/s [------------------] [0.0%, 0s left]   [*] 0 bytes / 111 kB @ 0 bytes/s [------------------] [0.0%, 0s left]   [*] 0 bytes / 111 kB @ 0 bytes/s [------------------] [0.0%, 0s left]   [*] 0 bytes / 111 kB @ 0 bytes/s [------------------] [0.0%, 0s left]   [*] 0 bytes / 111 kB @ 0 bytes/s [------------------] [0.0%, 0s left]   [*] 0 bytes / 111 kB @ 0 bytes/s [------------------] [0.0%, 0s left]   [*] 8 kB / 111 kB @ 4 kB/s [#-----------------] [7.2%, 0s left]   [*] 8 kB / 111 kB @ 4 kB/s [#-----------------] [7.2%, 0s left]   [*] 8 kB / 111 kB @ 4 kB/s [#-----------------] [7.2%, 0s left]   [*] 40 kB / 111 kB @ 19 kB/s [######------------] [36.0%, 0s left]  [*] 40 kB / 111 kB @ 18 kB/s [######------------] [36.0%, 0s left]  [*] 40 kB / 111 kB @ 17 kB/s [######------------] [36.0%, 0s left]  [*] 56 kB / 111 kB @ 23 kB/s [#########---------] [50.4%, 0s left]  [*] 111 kB / 111 kB @ 23 kB/s [##################] [100%, 0s left]    \n",
      "\u001b[31mERROR: PyAudio-0.2.11-cp311-cp311-win_amd64.whl is not a supported wheel on this platform.\u001b[0m\u001b[31m\n",
      "\u001b[0mTraceback (most recent call last):\n",
      "  File \"/Users/anubhavshroti/Documents/Anaconda/anaconda3/bin/pipwin\", line 8, in <module>\n",
      "    sys.exit(main())\n",
      "             ^^^^^^\n",
      "  File \"/Users/anubhavshroti/Documents/Anaconda/anaconda3/lib/python3.11/site-packages/pipwin/command.py\", line 103, in main\n",
      "    cache.install(package)\n",
      "  File \"/Users/anubhavshroti/Documents/Anaconda/anaconda3/lib/python3.11/site-packages/pipwin/pipwin.py\", line 301, in install\n",
      "    subprocess.check_call([executable, \"-m\", \"pip\", \"install\", wheel_file])\n",
      "  File \"/Users/anubhavshroti/Documents/Anaconda/anaconda3/lib/python3.11/subprocess.py\", line 413, in check_call\n",
      "    raise CalledProcessError(retcode, cmd)\n",
      "subprocess.CalledProcessError: Command '['/Users/anubhavshroti/Documents/Anaconda/anaconda3/bin/python', '-m', 'pip', 'install', '/Users/anubhavshroti/pipwin/PyAudio-0.2.11-cp311-cp311-win_amd64.whl']' returned non-zero exit status 1.\n"
     ]
    }
   ],
   "source": [
    "!pipwin install pyaudio\n"
   ]
  },
  {
   "cell_type": "code",
   "execution_count": 8,
   "id": "d18ff88a",
   "metadata": {},
   "outputs": [
    {
     "name": "stdout",
     "output_type": "stream",
     "text": [
      "Collecting pydub\n",
      "  Downloading pydub-0.25.1-py2.py3-none-any.whl (32 kB)\n",
      "Installing collected packages: pydub\n",
      "Successfully installed pydub-0.25.1\n",
      "Note: you may need to restart the kernel to use updated packages.\n"
     ]
    }
   ],
   "source": [
    "pip install pydub\n"
   ]
  },
  {
   "cell_type": "code",
   "execution_count": 9,
   "id": "5d0cdc57",
   "metadata": {},
   "outputs": [
    {
     "name": "stdout",
     "output_type": "stream",
     "text": [
      "Epoch 1/100\n",
      "1/1 [==============================] - 1s 966ms/step - loss: 1.7823 - accuracy: 0.7500\n",
      "Epoch 2/100\n",
      "1/1 [==============================] - 0s 4ms/step - loss: 1.7700 - accuracy: 0.7500\n",
      "Epoch 3/100\n",
      "1/1 [==============================] - 0s 4ms/step - loss: 1.7576 - accuracy: 0.7500\n",
      "Epoch 4/100\n",
      "1/1 [==============================] - 0s 4ms/step - loss: 1.7449 - accuracy: 0.7500\n",
      "Epoch 5/100\n",
      "1/1 [==============================] - 0s 4ms/step - loss: 1.7319 - accuracy: 0.7500\n",
      "Epoch 6/100\n",
      "1/1 [==============================] - 0s 4ms/step - loss: 1.7183 - accuracy: 0.7500\n",
      "Epoch 7/100\n",
      "1/1 [==============================] - 0s 4ms/step - loss: 1.7041 - accuracy: 0.7500\n",
      "Epoch 8/100\n",
      "1/1 [==============================] - 0s 4ms/step - loss: 1.6892 - accuracy: 0.7500\n",
      "Epoch 9/100\n",
      "1/1 [==============================] - 0s 4ms/step - loss: 1.6734 - accuracy: 0.7500\n",
      "Epoch 10/100\n",
      "1/1 [==============================] - 0s 4ms/step - loss: 1.6565 - accuracy: 0.7500\n",
      "Epoch 11/100\n",
      "1/1 [==============================] - 0s 4ms/step - loss: 1.6384 - accuracy: 0.7500\n",
      "Epoch 12/100\n",
      "1/1 [==============================] - 0s 4ms/step - loss: 1.6191 - accuracy: 0.7500\n",
      "Epoch 13/100\n",
      "1/1 [==============================] - 0s 4ms/step - loss: 1.5982 - accuracy: 0.7500\n",
      "Epoch 14/100\n",
      "1/1 [==============================] - 0s 4ms/step - loss: 1.5758 - accuracy: 0.7500\n",
      "Epoch 15/100\n",
      "1/1 [==============================] - 0s 5ms/step - loss: 1.5517 - accuracy: 0.7500\n",
      "Epoch 16/100\n",
      "1/1 [==============================] - 0s 4ms/step - loss: 1.5257 - accuracy: 0.7500\n",
      "Epoch 17/100\n",
      "1/1 [==============================] - 0s 4ms/step - loss: 1.4977 - accuracy: 0.7500\n",
      "Epoch 18/100\n",
      "1/1 [==============================] - 0s 5ms/step - loss: 1.4676 - accuracy: 0.7500\n",
      "Epoch 19/100\n",
      "1/1 [==============================] - 0s 4ms/step - loss: 1.4354 - accuracy: 0.7500\n",
      "Epoch 20/100\n",
      "1/1 [==============================] - 0s 4ms/step - loss: 1.4010 - accuracy: 0.7500\n",
      "Epoch 21/100\n",
      "1/1 [==============================] - 0s 5ms/step - loss: 1.3645 - accuracy: 0.7500\n",
      "Epoch 22/100\n",
      "1/1 [==============================] - 0s 4ms/step - loss: 1.3259 - accuracy: 0.7500\n",
      "Epoch 23/100\n",
      "1/1 [==============================] - 0s 4ms/step - loss: 1.2853 - accuracy: 0.7500\n",
      "Epoch 24/100\n",
      "1/1 [==============================] - 0s 5ms/step - loss: 1.2430 - accuracy: 0.7500\n",
      "Epoch 25/100\n",
      "1/1 [==============================] - 0s 4ms/step - loss: 1.1993 - accuracy: 0.7500\n",
      "Epoch 26/100\n",
      "1/1 [==============================] - 0s 4ms/step - loss: 1.1542 - accuracy: 0.7500\n",
      "Epoch 27/100\n",
      "1/1 [==============================] - 0s 5ms/step - loss: 1.1082 - accuracy: 0.7500\n",
      "Epoch 28/100\n",
      "1/1 [==============================] - 0s 4ms/step - loss: 1.0614 - accuracy: 0.7500\n",
      "Epoch 29/100\n",
      "1/1 [==============================] - 0s 4ms/step - loss: 1.0139 - accuracy: 0.7500\n",
      "Epoch 30/100\n",
      "1/1 [==============================] - 0s 5ms/step - loss: 0.9657 - accuracy: 0.7500\n",
      "Epoch 31/100\n",
      "1/1 [==============================] - 0s 4ms/step - loss: 0.9168 - accuracy: 0.7500\n",
      "Epoch 32/100\n",
      "1/1 [==============================] - 0s 4ms/step - loss: 0.8676 - accuracy: 1.0000\n",
      "Epoch 33/100\n",
      "1/1 [==============================] - 0s 5ms/step - loss: 0.8183 - accuracy: 1.0000\n",
      "Epoch 34/100\n",
      "1/1 [==============================] - 0s 4ms/step - loss: 0.7694 - accuracy: 1.0000\n",
      "Epoch 35/100\n",
      "1/1 [==============================] - 0s 5ms/step - loss: 0.7213 - accuracy: 1.0000\n",
      "Epoch 36/100\n",
      "1/1 [==============================] - 0s 5ms/step - loss: 0.6740 - accuracy: 1.0000\n",
      "Epoch 37/100\n",
      "1/1 [==============================] - 0s 4ms/step - loss: 0.6275 - accuracy: 1.0000\n",
      "Epoch 38/100\n",
      "1/1 [==============================] - 0s 4ms/step - loss: 0.5816 - accuracy: 1.0000\n",
      "Epoch 39/100\n",
      "1/1 [==============================] - 0s 5ms/step - loss: 0.5366 - accuracy: 1.0000\n",
      "Epoch 40/100\n",
      "1/1 [==============================] - 0s 4ms/step - loss: 0.4929 - accuracy: 1.0000\n",
      "Epoch 41/100\n",
      "1/1 [==============================] - 0s 5ms/step - loss: 0.4513 - accuracy: 1.0000\n",
      "Epoch 42/100\n",
      "1/1 [==============================] - 0s 6ms/step - loss: 0.4121 - accuracy: 1.0000\n",
      "Epoch 43/100\n",
      "1/1 [==============================] - 0s 5ms/step - loss: 0.3751 - accuracy: 1.0000\n",
      "Epoch 44/100\n",
      "1/1 [==============================] - 0s 5ms/step - loss: 0.3398 - accuracy: 1.0000\n",
      "Epoch 45/100\n",
      "1/1 [==============================] - 0s 5ms/step - loss: 0.3065 - accuracy: 1.0000\n",
      "Epoch 46/100\n",
      "1/1 [==============================] - 0s 5ms/step - loss: 0.2754 - accuracy: 1.0000\n",
      "Epoch 47/100\n",
      "1/1 [==============================] - 0s 4ms/step - loss: 0.2470 - accuracy: 1.0000\n",
      "Epoch 48/100\n",
      "1/1 [==============================] - 0s 5ms/step - loss: 0.2210 - accuracy: 1.0000\n",
      "Epoch 49/100\n",
      "1/1 [==============================] - 0s 5ms/step - loss: 0.1972 - accuracy: 1.0000\n",
      "Epoch 50/100\n",
      "1/1 [==============================] - 0s 5ms/step - loss: 0.1753 - accuracy: 1.0000\n",
      "Epoch 51/100\n",
      "1/1 [==============================] - 0s 5ms/step - loss: 0.1555 - accuracy: 1.0000\n",
      "Epoch 52/100\n",
      "1/1 [==============================] - 0s 5ms/step - loss: 0.1378 - accuracy: 1.0000\n",
      "Epoch 53/100\n",
      "1/1 [==============================] - 0s 5ms/step - loss: 0.1220 - accuracy: 1.0000\n",
      "Epoch 54/100\n",
      "1/1 [==============================] - 0s 9ms/step - loss: 0.1078 - accuracy: 1.0000\n",
      "Epoch 55/100\n",
      "1/1 [==============================] - 0s 8ms/step - loss: 0.0950 - accuracy: 1.0000\n",
      "Epoch 56/100\n",
      "1/1 [==============================] - 0s 6ms/step - loss: 0.0837 - accuracy: 1.0000\n",
      "Epoch 57/100\n",
      "1/1 [==============================] - 0s 5ms/step - loss: 0.0739 - accuracy: 1.0000\n",
      "Epoch 58/100\n",
      "1/1 [==============================] - 0s 5ms/step - loss: 0.0653 - accuracy: 1.0000\n",
      "Epoch 59/100\n",
      "1/1 [==============================] - 0s 4ms/step - loss: 0.0579 - accuracy: 1.0000\n",
      "Epoch 60/100\n",
      "1/1 [==============================] - 0s 6ms/step - loss: 0.0514 - accuracy: 1.0000\n",
      "Epoch 61/100\n",
      "1/1 [==============================] - 0s 8ms/step - loss: 0.0459 - accuracy: 1.0000\n",
      "Epoch 62/100\n",
      "1/1 [==============================] - 0s 5ms/step - loss: 0.0411 - accuracy: 1.0000\n",
      "Epoch 63/100\n",
      "1/1 [==============================] - 0s 5ms/step - loss: 0.0370 - accuracy: 1.0000\n",
      "Epoch 64/100\n",
      "1/1 [==============================] - 0s 5ms/step - loss: 0.0334 - accuracy: 1.0000\n",
      "Epoch 65/100\n",
      "1/1 [==============================] - 0s 5ms/step - loss: 0.0301 - accuracy: 1.0000\n",
      "Epoch 66/100\n",
      "1/1 [==============================] - 0s 4ms/step - loss: 0.0273 - accuracy: 1.0000\n",
      "Epoch 67/100\n",
      "1/1 [==============================] - 0s 4ms/step - loss: 0.0248 - accuracy: 1.0000\n",
      "Epoch 68/100\n",
      "1/1 [==============================] - 0s 5ms/step - loss: 0.0226 - accuracy: 1.0000\n",
      "Epoch 69/100\n",
      "1/1 [==============================] - 0s 5ms/step - loss: 0.0206 - accuracy: 1.0000\n",
      "Epoch 70/100\n",
      "1/1 [==============================] - 0s 4ms/step - loss: 0.0188 - accuracy: 1.0000\n",
      "Epoch 71/100\n",
      "1/1 [==============================] - 0s 5ms/step - loss: 0.0172 - accuracy: 1.0000\n",
      "Epoch 72/100\n",
      "1/1 [==============================] - 0s 5ms/step - loss: 0.0158 - accuracy: 1.0000\n",
      "Epoch 73/100\n",
      "1/1 [==============================] - 0s 4ms/step - loss: 0.0145 - accuracy: 1.0000\n",
      "Epoch 74/100\n",
      "1/1 [==============================] - 0s 5ms/step - loss: 0.0134 - accuracy: 1.0000\n",
      "Epoch 75/100\n",
      "1/1 [==============================] - 0s 4ms/step - loss: 0.0124 - accuracy: 1.0000\n",
      "Epoch 76/100\n",
      "1/1 [==============================] - 0s 4ms/step - loss: 0.0115 - accuracy: 1.0000\n",
      "Epoch 77/100\n",
      "1/1 [==============================] - 0s 5ms/step - loss: 0.0107 - accuracy: 1.0000\n",
      "Epoch 78/100\n",
      "1/1 [==============================] - 0s 4ms/step - loss: 0.0099 - accuracy: 1.0000\n",
      "Epoch 79/100\n",
      "1/1 [==============================] - 0s 5ms/step - loss: 0.0093 - accuracy: 1.0000\n",
      "Epoch 80/100\n",
      "1/1 [==============================] - 0s 5ms/step - loss: 0.0087 - accuracy: 1.0000\n",
      "Epoch 81/100\n",
      "1/1 [==============================] - 0s 4ms/step - loss: 0.0082 - accuracy: 1.0000\n",
      "Epoch 82/100\n",
      "1/1 [==============================] - 0s 4ms/step - loss: 0.0077 - accuracy: 1.0000\n",
      "Epoch 83/100\n",
      "1/1 [==============================] - 0s 5ms/step - loss: 0.0073 - accuracy: 1.0000\n",
      "Epoch 84/100\n",
      "1/1 [==============================] - 0s 4ms/step - loss: 0.0069 - accuracy: 1.0000\n",
      "Epoch 85/100\n",
      "1/1 [==============================] - 0s 5ms/step - loss: 0.0066 - accuracy: 1.0000\n",
      "Epoch 86/100\n",
      "1/1 [==============================] - 0s 5ms/step - loss: 0.0063 - accuracy: 1.0000\n",
      "Epoch 87/100\n",
      "1/1 [==============================] - 0s 4ms/step - loss: 0.0060 - accuracy: 1.0000\n",
      "Epoch 88/100\n",
      "1/1 [==============================] - 0s 5ms/step - loss: 0.0058 - accuracy: 1.0000\n",
      "Epoch 89/100\n",
      "1/1 [==============================] - 0s 5ms/step - loss: 0.0055 - accuracy: 1.0000\n",
      "Epoch 90/100\n",
      "1/1 [==============================] - 0s 4ms/step - loss: 0.0053 - accuracy: 1.0000\n",
      "Epoch 91/100\n",
      "1/1 [==============================] - 0s 5ms/step - loss: 0.0051 - accuracy: 1.0000\n",
      "Epoch 92/100\n",
      "1/1 [==============================] - 0s 4ms/step - loss: 0.0049 - accuracy: 1.0000\n",
      "Epoch 93/100\n",
      "1/1 [==============================] - 0s 4ms/step - loss: 0.0048 - accuracy: 1.0000\n",
      "Epoch 94/100\n",
      "1/1 [==============================] - 0s 5ms/step - loss: 0.0046 - accuracy: 1.0000\n",
      "Epoch 95/100\n",
      "1/1 [==============================] - 0s 4ms/step - loss: 0.0045 - accuracy: 1.0000\n",
      "Epoch 96/100\n",
      "1/1 [==============================] - 0s 4ms/step - loss: 0.0043 - accuracy: 1.0000\n",
      "Epoch 97/100\n",
      "1/1 [==============================] - 0s 5ms/step - loss: 0.0042 - accuracy: 1.0000\n",
      "Epoch 98/100\n",
      "1/1 [==============================] - 0s 4ms/step - loss: 0.0041 - accuracy: 1.0000\n",
      "Epoch 99/100\n",
      "1/1 [==============================] - 0s 4ms/step - loss: 0.0040 - accuracy: 1.0000\n",
      "Epoch 100/100\n",
      "1/1 [==============================] - 0s 4ms/step - loss: 0.0039 - accuracy: 1.0000\n",
      "Extracting the meaning of words and sentences.. stands stands for artificial intelligence intelligence intelligence intelligence intelligence intelligence intelligence intelligence intelligence intelligence intelligence intelligence intelligence intelligence intelligence intelligence\n"
     ]
    }
   ],
   "source": [
    "#Q1:\n",
    "\n",
    "import numpy as np\n",
    "import tensorflow as tf\n",
    "from tensorflow.keras.models import Sequential\n",
    "from tensorflow.keras.layers import Embedding, LSTM, Dense\n",
    "\n",
    "# Sample text data\n",
    "text = \"AI stands for Artificial Intelligence.\"\n",
    "\n",
    "# Preprocess the text\n",
    "tokenizer = tf.keras.preprocessing.text.Tokenizer()\n",
    "tokenizer.fit_on_texts([text])\n",
    "total_words = len(tokenizer.word_index) + 1\n",
    "\n",
    "# Create input sequences and labels\n",
    "input_sequences = []\n",
    "for line in text.split('\\n'):\n",
    "    token_list = tokenizer.texts_to_sequences([line])[0]\n",
    "    for i in range(1, len(token_list)):\n",
    "        n_gram_sequence = token_list[:i+1]\n",
    "        input_sequences.append(n_gram_sequence)\n",
    "\n",
    "max_sequence_length = max([len(x) for x in input_sequences])\n",
    "input_sequences = tf.keras.preprocessing.sequence.pad_sequences(input_sequences, maxlen=max_sequence_length, padding='pre')\n",
    "x, y = input_sequences[:, :-1], input_sequences[:, -1]\n",
    "y = tf.keras.utils.to_categorical(y, num_classes=total_words)\n",
    "\n",
    "# Build the model\n",
    "model = Sequential()\n",
    "model.add(Embedding(total_words, 100, input_length=max_sequence_length-1))\n",
    "model.add(LSTM(100))\n",
    "model.add(Dense(total_words, activation='softmax'))\n",
    "\n",
    "# Compile the model\n",
    "model.compile(optimizer='adam', loss='categorical_crossentropy', metrics=['accuracy'])\n",
    "\n",
    "# Train the model\n",
    "model.fit(x, y, epochs=100, verbose=1)\n",
    "\n",
    "# Function to generate text\n",
    "def generate_text(seed_text, next_words, model, max_sequence_length):\n",
    "    for _ in range(next_words):\n",
    "        token_list = tokenizer.texts_to_sequences([seed_text])[0]\n",
    "        token_list = tf.keras.preprocessing.sequence.pad_sequences([token_list], maxlen=max_sequence_length-1, padding='pre')\n",
    "        predicted_probs = model.predict(token_list, verbose=0)[0]\n",
    "        predicted_index = np.argmax(predicted_probs)\n",
    "        output_word = \"\"\n",
    "        for word, index in tokenizer.word_index.items():\n",
    "            if index == predicted_index:\n",
    "                output_word = word\n",
    "                break\n",
    "        seed_text += \" \" + output_word\n",
    "    return seed_text\n",
    "\n",
    "# Generate text\n",
    "generated_text = generate_text(\"Extracting the meaning of words and sentences..\", 20, model, max_sequence_length)\n",
    "print(generated_text)"
   ]
  },
  {
   "cell_type": "code",
   "execution_count": 15,
   "id": "dc4602b0",
   "metadata": {},
   "outputs": [
    {
     "name": "stdout",
     "output_type": "stream",
     "text": [
      "Collecting pyaudio\n",
      "  Using cached PyAudio-0.2.14.tar.gz (47 kB)\n",
      "  Installing build dependencies ... \u001b[?25ldone\n",
      "\u001b[?25h  Getting requirements to build wheel ... \u001b[?25ldone\n",
      "\u001b[?25h  Preparing metadata (pyproject.toml) ... \u001b[?25ldone\n",
      "\u001b[?25hBuilding wheels for collected packages: pyaudio\n",
      "  Building wheel for pyaudio (pyproject.toml) ... \u001b[?25lerror\n",
      "  \u001b[1;31merror\u001b[0m: \u001b[1msubprocess-exited-with-error\u001b[0m\n",
      "  \n",
      "  \u001b[31m×\u001b[0m \u001b[32mBuilding wheel for pyaudio \u001b[0m\u001b[1;32m(\u001b[0m\u001b[32mpyproject.toml\u001b[0m\u001b[1;32m)\u001b[0m did not run successfully.\n",
      "  \u001b[31m│\u001b[0m exit code: \u001b[1;36m1\u001b[0m\n",
      "  \u001b[31m╰─>\u001b[0m \u001b[31m[18 lines of output]\u001b[0m\n",
      "  \u001b[31m   \u001b[0m running bdist_wheel\n",
      "  \u001b[31m   \u001b[0m running build\n",
      "  \u001b[31m   \u001b[0m running build_py\n",
      "  \u001b[31m   \u001b[0m creating build\n",
      "  \u001b[31m   \u001b[0m creating build/lib.macosx-11.1-arm64-cpython-311\n",
      "  \u001b[31m   \u001b[0m creating build/lib.macosx-11.1-arm64-cpython-311/pyaudio\n",
      "  \u001b[31m   \u001b[0m copying src/pyaudio/__init__.py -> build/lib.macosx-11.1-arm64-cpython-311/pyaudio\n",
      "  \u001b[31m   \u001b[0m running build_ext\n",
      "  \u001b[31m   \u001b[0m building 'pyaudio._portaudio' extension\n",
      "  \u001b[31m   \u001b[0m creating build/temp.macosx-11.1-arm64-cpython-311\n",
      "  \u001b[31m   \u001b[0m creating build/temp.macosx-11.1-arm64-cpython-311/src\n",
      "  \u001b[31m   \u001b[0m creating build/temp.macosx-11.1-arm64-cpython-311/src/pyaudio\n",
      "  \u001b[31m   \u001b[0m clang -DNDEBUG -fwrapv -O2 -Wall -fPIC -O2 -isystem /Users/anubhavshroti/Documents/Anaconda/anaconda3/include -arch arm64 -fPIC -O2 -isystem /Users/anubhavshroti/Documents/Anaconda/anaconda3/include -arch arm64 -DMACOS=1 -I/usr/local/include -I/usr/include -I/opt/homebrew/include -I/Users/anubhavshroti/Documents/Anaconda/anaconda3/include/python3.11 -c src/pyaudio/device_api.c -o build/temp.macosx-11.1-arm64-cpython-311/src/pyaudio/device_api.o\n",
      "  \u001b[31m   \u001b[0m src/pyaudio/device_api.c:9:10: fatal error: 'portaudio.h' file not found\n",
      "  \u001b[31m   \u001b[0m #include \"portaudio.h\"\n",
      "  \u001b[31m   \u001b[0m          ^~~~~~~~~~~~~\n",
      "  \u001b[31m   \u001b[0m 1 error generated.\n",
      "  \u001b[31m   \u001b[0m error: command '/usr/bin/clang' failed with exit code 1\n",
      "  \u001b[31m   \u001b[0m \u001b[31m[end of output]\u001b[0m\n",
      "  \n",
      "  \u001b[1;35mnote\u001b[0m: This error originates from a subprocess, and is likely not a problem with pip.\n",
      "\u001b[31m  ERROR: Failed building wheel for pyaudio\u001b[0m\u001b[31m\n",
      "\u001b[0m\u001b[?25hFailed to build pyaudio\n",
      "\u001b[31mERROR: Could not build wheels for pyaudio, which is required to install pyproject.toml-based projects\u001b[0m\u001b[31m\n",
      "\u001b[0mNote: you may need to restart the kernel to use updated packages.\n"
     ]
    }
   ],
   "source": [
    "pip install pyaudio\n"
   ]
  },
  {
   "cell_type": "code",
   "execution_count": 10,
   "id": "c9a699c7",
   "metadata": {},
   "outputs": [
    {
     "ename": "AttributeError",
     "evalue": "Could not find PyAudio; check installation",
     "output_type": "error",
     "traceback": [
      "\u001b[0;31m---------------------------------------------------------------------------\u001b[0m",
      "\u001b[0;31mModuleNotFoundError\u001b[0m                       Traceback (most recent call last)",
      "File \u001b[0;32m~/Documents/Anaconda/anaconda3/lib/python3.11/site-packages/speech_recognition/__init__.py:108\u001b[0m, in \u001b[0;36mMicrophone.get_pyaudio\u001b[0;34m()\u001b[0m\n\u001b[1;32m    107\u001b[0m \u001b[38;5;28;01mtry\u001b[39;00m:\n\u001b[0;32m--> 108\u001b[0m     \u001b[38;5;28;01mimport\u001b[39;00m \u001b[38;5;21;01mpyaudio\u001b[39;00m\n\u001b[1;32m    109\u001b[0m \u001b[38;5;28;01mexcept\u001b[39;00m \u001b[38;5;167;01mImportError\u001b[39;00m:\n",
      "\u001b[0;31mModuleNotFoundError\u001b[0m: No module named 'pyaudio'",
      "\nDuring handling of the above exception, another exception occurred:\n",
      "\u001b[0;31mAttributeError\u001b[0m                            Traceback (most recent call last)",
      "Cell \u001b[0;32mIn[10], line 22\u001b[0m\n\u001b[1;32m     19\u001b[0m         \u001b[38;5;28mprint\u001b[39m(\u001b[38;5;124m\"\u001b[39m\u001b[38;5;124mError with the speech recognition service; \u001b[39m\u001b[38;5;132;01m{0}\u001b[39;00m\u001b[38;5;124m\"\u001b[39m\u001b[38;5;241m.\u001b[39mformat(e))\n\u001b[1;32m     21\u001b[0m \u001b[38;5;66;03m# Call the function\u001b[39;00m\n\u001b[0;32m---> 22\u001b[0m speech_to_text()\n",
      "Cell \u001b[0;32mIn[10], line 8\u001b[0m, in \u001b[0;36mspeech_to_text\u001b[0;34m()\u001b[0m\n\u001b[1;32m      5\u001b[0m recognizer \u001b[38;5;241m=\u001b[39m sr\u001b[38;5;241m.\u001b[39mRecognizer()\n\u001b[1;32m      7\u001b[0m \u001b[38;5;66;03m# Capture audio from the microphone\u001b[39;00m\n\u001b[0;32m----> 8\u001b[0m \u001b[38;5;28;01mwith\u001b[39;00m sr\u001b[38;5;241m.\u001b[39mMicrophone() \u001b[38;5;28;01mas\u001b[39;00m source:\n\u001b[1;32m      9\u001b[0m     \u001b[38;5;28mprint\u001b[39m(\u001b[38;5;124m\"\u001b[39m\u001b[38;5;124mSay something:Book\u001b[39m\u001b[38;5;124m\"\u001b[39m)\n\u001b[1;32m     10\u001b[0m     audio \u001b[38;5;241m=\u001b[39m recognizer\u001b[38;5;241m.\u001b[39mlisten(source)\n",
      "File \u001b[0;32m~/Documents/Anaconda/anaconda3/lib/python3.11/site-packages/speech_recognition/__init__.py:80\u001b[0m, in \u001b[0;36mMicrophone.__init__\u001b[0;34m(self, device_index, sample_rate, chunk_size)\u001b[0m\n\u001b[1;32m     77\u001b[0m \u001b[38;5;28;01massert\u001b[39;00m \u001b[38;5;28misinstance\u001b[39m(chunk_size, \u001b[38;5;28mint\u001b[39m) \u001b[38;5;129;01mand\u001b[39;00m chunk_size \u001b[38;5;241m>\u001b[39m \u001b[38;5;241m0\u001b[39m, \u001b[38;5;124m\"\u001b[39m\u001b[38;5;124mChunk size must be a positive integer\u001b[39m\u001b[38;5;124m\"\u001b[39m\n\u001b[1;32m     79\u001b[0m \u001b[38;5;66;03m# set up PyAudio\u001b[39;00m\n\u001b[0;32m---> 80\u001b[0m \u001b[38;5;28mself\u001b[39m\u001b[38;5;241m.\u001b[39mpyaudio_module \u001b[38;5;241m=\u001b[39m \u001b[38;5;28mself\u001b[39m\u001b[38;5;241m.\u001b[39mget_pyaudio()\n\u001b[1;32m     81\u001b[0m audio \u001b[38;5;241m=\u001b[39m \u001b[38;5;28mself\u001b[39m\u001b[38;5;241m.\u001b[39mpyaudio_module\u001b[38;5;241m.\u001b[39mPyAudio()\n\u001b[1;32m     82\u001b[0m \u001b[38;5;28;01mtry\u001b[39;00m:\n",
      "File \u001b[0;32m~/Documents/Anaconda/anaconda3/lib/python3.11/site-packages/speech_recognition/__init__.py:110\u001b[0m, in \u001b[0;36mMicrophone.get_pyaudio\u001b[0;34m()\u001b[0m\n\u001b[1;32m    108\u001b[0m     \u001b[38;5;28;01mimport\u001b[39;00m \u001b[38;5;21;01mpyaudio\u001b[39;00m\n\u001b[1;32m    109\u001b[0m \u001b[38;5;28;01mexcept\u001b[39;00m \u001b[38;5;167;01mImportError\u001b[39;00m:\n\u001b[0;32m--> 110\u001b[0m     \u001b[38;5;28;01mraise\u001b[39;00m \u001b[38;5;167;01mAttributeError\u001b[39;00m(\u001b[38;5;124m\"\u001b[39m\u001b[38;5;124mCould not find PyAudio; check installation\u001b[39m\u001b[38;5;124m\"\u001b[39m)\n\u001b[1;32m    111\u001b[0m \u001b[38;5;28;01mfrom\u001b[39;00m \u001b[38;5;21;01mdistutils\u001b[39;00m\u001b[38;5;21;01m.\u001b[39;00m\u001b[38;5;21;01mversion\u001b[39;00m \u001b[38;5;28;01mimport\u001b[39;00m LooseVersion\n\u001b[1;32m    112\u001b[0m \u001b[38;5;28;01mif\u001b[39;00m LooseVersion(pyaudio\u001b[38;5;241m.\u001b[39m__version__) \u001b[38;5;241m<\u001b[39m LooseVersion(\u001b[38;5;124m\"\u001b[39m\u001b[38;5;124m0.2.11\u001b[39m\u001b[38;5;124m\"\u001b[39m):\n",
      "\u001b[0;31mAttributeError\u001b[0m: Could not find PyAudio; check installation"
     ]
    }
   ],
   "source": [
    "import speech_recognition as sr\n",
    "\n",
    "def speech_to_text():\n",
    "    # Initialize the recognizer\n",
    "    recognizer = sr.Recognizer()\n",
    "\n",
    "    # Capture audio from the microphone\n",
    "    with sr.Microphone() as source:\n",
    "        print(\"Say something:Book\")\n",
    "        audio = recognizer.listen(source)\n",
    "\n",
    "    try:\n",
    "        # Use Google Speech Recognition to convert audio to text\n",
    "        text = recognizer.recognize_google(audio)\n",
    "        print(\"You said: {Book}\".format(text))\n",
    "    except sr.UnknownValueError:\n",
    "        print(\"Could not understand audio\")\n",
    "    except sr.RequestError as e:\n",
    "        print(\"Error with the speech recognition service; {0}\".format(e))\n",
    "\n",
    "# Call the function\n",
    "speech_to_text()"
   ]
  },
  {
   "cell_type": "code",
   "execution_count": 11,
   "id": "59b0ef24",
   "metadata": {},
   "outputs": [
    {
     "name": "stdout",
     "output_type": "stream",
     "text": [
      "Collecting gtts\n",
      "  Downloading gTTS-2.4.0-py3-none-any.whl.metadata (4.1 kB)\n",
      "Requirement already satisfied: requests<3,>=2.27 in /Users/anubhavshroti/Documents/Anaconda/anaconda3/lib/python3.11/site-packages (from gtts) (2.31.0)\n",
      "Requirement already satisfied: click<8.2,>=7.1 in /Users/anubhavshroti/Documents/Anaconda/anaconda3/lib/python3.11/site-packages (from gtts) (8.0.4)\n",
      "Requirement already satisfied: charset-normalizer<4,>=2 in /Users/anubhavshroti/Documents/Anaconda/anaconda3/lib/python3.11/site-packages (from requests<3,>=2.27->gtts) (2.0.4)\n",
      "Requirement already satisfied: idna<4,>=2.5 in /Users/anubhavshroti/Documents/Anaconda/anaconda3/lib/python3.11/site-packages (from requests<3,>=2.27->gtts) (3.4)\n",
      "Requirement already satisfied: urllib3<3,>=1.21.1 in /Users/anubhavshroti/Documents/Anaconda/anaconda3/lib/python3.11/site-packages (from requests<3,>=2.27->gtts) (1.26.16)\n",
      "Requirement already satisfied: certifi>=2017.4.17 in /Users/anubhavshroti/Documents/Anaconda/anaconda3/lib/python3.11/site-packages (from requests<3,>=2.27->gtts) (2023.7.22)\n",
      "Downloading gTTS-2.4.0-py3-none-any.whl (29 kB)\n",
      "Installing collected packages: gtts\n",
      "Successfully installed gtts-2.4.0\n",
      "Note: you may need to restart the kernel to use updated packages.\n"
     ]
    }
   ],
   "source": [
    "pip install gtts"
   ]
  },
  {
   "cell_type": "code",
   "execution_count": 13,
   "id": "ce34765b",
   "metadata": {},
   "outputs": [
    {
     "name": "stderr",
     "output_type": "stream",
     "text": [
      "sh: start: command not found\n"
     ]
    }
   ],
   "source": [
    "from gtts import gTTS\n",
    "import os\n",
    "\n",
    "def text_to_speech(text, language='en', filename='output.mp3'):\n",
    "    # Create a gTTS object\n",
    "    tts = gTTS(text=text, lang=language, slow=False)\n",
    "\n",
    "    # Save the audio file\n",
    "    tts.save(filename)\n",
    "\n",
    "    # Play the generated audio file\n",
    "    os.system(f'start {filename}')\n",
    "\n",
    "# Example usage\n",
    "text = \"Hello, this is a Text-to-Speech model built with gTTS.\"\n",
    "text_to_speech(text)"
   ]
  },
  {
   "cell_type": "code",
   "execution_count": 14,
   "id": "55dedc50",
   "metadata": {},
   "outputs": [
    {
     "data": {
      "application/vnd.jupyter.widget-view+json": {
       "model_id": "ab44ed5fcd734b5ea22f312a341c2d1a",
       "version_major": 2,
       "version_minor": 0
      },
      "text/plain": [
       "config.json:   0%|          | 0.00/665 [00:00<?, ?B/s]"
      ]
     },
     "metadata": {},
     "output_type": "display_data"
    },
    {
     "data": {
      "application/vnd.jupyter.widget-view+json": {
       "model_id": "d430e932a8d44e97885e4a757b6572ac",
       "version_major": 2,
       "version_minor": 0
      },
      "text/plain": [
       "model.safetensors:   0%|          | 0.00/548M [00:00<?, ?B/s]"
      ]
     },
     "metadata": {},
     "output_type": "display_data"
    },
    {
     "data": {
      "application/vnd.jupyter.widget-view+json": {
       "model_id": "c4252b32cd534c55adc27785ad98d148",
       "version_major": 2,
       "version_minor": 0
      },
      "text/plain": [
       "generation_config.json:   0%|          | 0.00/124 [00:00<?, ?B/s]"
      ]
     },
     "metadata": {},
     "output_type": "display_data"
    },
    {
     "data": {
      "application/vnd.jupyter.widget-view+json": {
       "model_id": "67b4950b35be449ea35dfecbf862e751",
       "version_major": 2,
       "version_minor": 0
      },
      "text/plain": [
       "vocab.json:   0%|          | 0.00/1.04M [00:00<?, ?B/s]"
      ]
     },
     "metadata": {},
     "output_type": "display_data"
    },
    {
     "data": {
      "application/vnd.jupyter.widget-view+json": {
       "model_id": "c585cbfaf9d943eeb32b50455404ddb3",
       "version_major": 2,
       "version_minor": 0
      },
      "text/plain": [
       "merges.txt:   0%|          | 0.00/456k [00:00<?, ?B/s]"
      ]
     },
     "metadata": {},
     "output_type": "display_data"
    },
    {
     "data": {
      "application/vnd.jupyter.widget-view+json": {
       "model_id": "71c0f53af7ae4b4ba5836ed679a35346",
       "version_major": 2,
       "version_minor": 0
      },
      "text/plain": [
       "tokenizer.json:   0%|          | 0.00/1.36M [00:00<?, ?B/s]"
      ]
     },
     "metadata": {},
     "output_type": "display_data"
    },
    {
     "name": "stderr",
     "output_type": "stream",
     "text": [
      "/Users/anubhavshroti/Documents/Anaconda/anaconda3/lib/python3.11/site-packages/transformers/generation/configuration_utils.py:381: UserWarning: `do_sample` is set to `False`. However, `temperature` is set to `0.7` -- this flag is only used in sample-based generation modes. You should set `do_sample=True` or unset `temperature`.\n",
      "  warnings.warn(\n",
      "/Users/anubhavshroti/Documents/Anaconda/anaconda3/lib/python3.11/site-packages/transformers/generation/configuration_utils.py:386: UserWarning: `do_sample` is set to `False`. However, `top_p` is set to `0.95` -- this flag is only used in sample-based generation modes. You should set `do_sample=True` or unset `top_p`.\n",
      "  warnings.warn(\n",
      "The attention mask and the pad token id were not set. As a consequence, you may observe unexpected behavior. Please pass your input's `attention_mask` to obtain reliable results.\n",
      "Setting `pad_token_id` to `eos_token_id`:50256 for open-end generation.\n"
     ]
    },
    {
     "name": "stdout",
     "output_type": "stream",
     "text": [
      "Original Text: This is an example sentece with sme mistkes.\n",
      "Corrected Text: This is an example sentece with sme mistkes.\n",
      "\n",
      "If you have any questions, please feel free to contact me.\n"
     ]
    }
   ],
   "source": [
    "from transformers import GPT2LMHeadModel, GPT2Tokenizer\n",
    "\n",
    "def correct_errors(input_text):\n",
    "    # Load pre-trained GPT-2 model and tokenizer\n",
    "    model_name = 'gpt2'\n",
    "    model = GPT2LMHeadModel.from_pretrained(model_name)\n",
    "    tokenizer = GPT2Tokenizer.from_pretrained(model_name)\n",
    "\n",
    "    # Tokenize input text\n",
    "    input_ids = tokenizer.encode(input_text, return_tensors='pt')\n",
    "\n",
    "    # Generate corrected text\n",
    "    output = model.generate(input_ids, max_length=50, num_beams=5, no_repeat_ngram_size=2, top_k=50, top_p=0.95, temperature=0.7)\n",
    "    corrected_text = tokenizer.decode(output[0], skip_special_tokens=True)\n",
    "\n",
    "    return corrected_text\n",
    "\n",
    "# Example usage\n",
    "input_text = \"This is an example sentece with sme mistkes.\"\n",
    "corrected_text = correct_errors(input_text)\n",
    "print(\"Original Text:\", input_text)\n",
    "print(\"Corrected Text:\", corrected_text)"
   ]
  },
  {
   "cell_type": "code",
   "execution_count": 1,
   "id": "310d19c1",
   "metadata": {},
   "outputs": [
    {
     "name": "stdout",
     "output_type": "stream",
     "text": [
      "Requirement already satisfied: transformers in /Users/anubhavshroti/Documents/Anaconda/anaconda3/lib/python3.11/site-packages (4.35.2)\n",
      "Requirement already satisfied: filelock in /Users/anubhavshroti/Documents/Anaconda/anaconda3/lib/python3.11/site-packages (from transformers) (3.9.0)\n",
      "Requirement already satisfied: huggingface-hub<1.0,>=0.16.4 in /Users/anubhavshroti/Documents/Anaconda/anaconda3/lib/python3.11/site-packages (from transformers) (0.19.4)\n",
      "Requirement already satisfied: numpy>=1.17 in /Users/anubhavshroti/Documents/Anaconda/anaconda3/lib/python3.11/site-packages (from transformers) (1.24.3)\n",
      "Requirement already satisfied: packaging>=20.0 in /Users/anubhavshroti/Documents/Anaconda/anaconda3/lib/python3.11/site-packages (from transformers) (23.1)\n",
      "Requirement already satisfied: pyyaml>=5.1 in /Users/anubhavshroti/Documents/Anaconda/anaconda3/lib/python3.11/site-packages (from transformers) (6.0)\n",
      "Requirement already satisfied: regex!=2019.12.17 in /Users/anubhavshroti/Documents/Anaconda/anaconda3/lib/python3.11/site-packages (from transformers) (2022.7.9)\n",
      "Requirement already satisfied: requests in /Users/anubhavshroti/Documents/Anaconda/anaconda3/lib/python3.11/site-packages (from transformers) (2.31.0)\n",
      "Requirement already satisfied: tokenizers<0.19,>=0.14 in /Users/anubhavshroti/Documents/Anaconda/anaconda3/lib/python3.11/site-packages (from transformers) (0.15.0)\n",
      "Requirement already satisfied: safetensors>=0.3.1 in /Users/anubhavshroti/Documents/Anaconda/anaconda3/lib/python3.11/site-packages (from transformers) (0.3.2)\n",
      "Requirement already satisfied: tqdm>=4.27 in /Users/anubhavshroti/Documents/Anaconda/anaconda3/lib/python3.11/site-packages (from transformers) (4.65.0)\n",
      "Requirement already satisfied: fsspec>=2023.5.0 in /Users/anubhavshroti/Documents/Anaconda/anaconda3/lib/python3.11/site-packages (from huggingface-hub<1.0,>=0.16.4->transformers) (2023.10.0)\n",
      "Requirement already satisfied: typing-extensions>=3.7.4.3 in /Users/anubhavshroti/Documents/Anaconda/anaconda3/lib/python3.11/site-packages (from huggingface-hub<1.0,>=0.16.4->transformers) (4.7.1)\n",
      "Requirement already satisfied: charset-normalizer<4,>=2 in /Users/anubhavshroti/Documents/Anaconda/anaconda3/lib/python3.11/site-packages (from requests->transformers) (2.0.4)\n",
      "Requirement already satisfied: idna<4,>=2.5 in /Users/anubhavshroti/Documents/Anaconda/anaconda3/lib/python3.11/site-packages (from requests->transformers) (3.4)\n",
      "Requirement already satisfied: urllib3<3,>=1.21.1 in /Users/anubhavshroti/Documents/Anaconda/anaconda3/lib/python3.11/site-packages (from requests->transformers) (1.26.16)\n",
      "Requirement already satisfied: certifi>=2017.4.17 in /Users/anubhavshroti/Documents/Anaconda/anaconda3/lib/python3.11/site-packages (from requests->transformers) (2023.7.22)\n",
      "Note: you may need to restart the kernel to use updated packages.\n"
     ]
    }
   ],
   "source": [
    "pip install transformers"
   ]
  },
  {
   "cell_type": "code",
   "execution_count": 2,
   "id": "fdd9e5e1",
   "metadata": {},
   "outputs": [
    {
     "name": "stdout",
     "output_type": "stream",
     "text": [
      "Requirement already satisfied: torch in /Users/anubhavshroti/Documents/Anaconda/anaconda3/lib/python3.11/site-packages (2.1.1)\n",
      "Requirement already satisfied: filelock in /Users/anubhavshroti/Documents/Anaconda/anaconda3/lib/python3.11/site-packages (from torch) (3.9.0)\n",
      "Requirement already satisfied: typing-extensions in /Users/anubhavshroti/Documents/Anaconda/anaconda3/lib/python3.11/site-packages (from torch) (4.7.1)\n",
      "Requirement already satisfied: sympy in /Users/anubhavshroti/Documents/Anaconda/anaconda3/lib/python3.11/site-packages (from torch) (1.11.1)\n",
      "Requirement already satisfied: networkx in /Users/anubhavshroti/Documents/Anaconda/anaconda3/lib/python3.11/site-packages (from torch) (3.1)\n",
      "Requirement already satisfied: jinja2 in /Users/anubhavshroti/Documents/Anaconda/anaconda3/lib/python3.11/site-packages (from torch) (3.1.2)\n",
      "Requirement already satisfied: fsspec in /Users/anubhavshroti/Documents/Anaconda/anaconda3/lib/python3.11/site-packages (from torch) (2023.10.0)\n",
      "Requirement already satisfied: MarkupSafe>=2.0 in /Users/anubhavshroti/Documents/Anaconda/anaconda3/lib/python3.11/site-packages (from jinja2->torch) (2.1.1)\n",
      "Requirement already satisfied: mpmath>=0.19 in /Users/anubhavshroti/Documents/Anaconda/anaconda3/lib/python3.11/site-packages (from sympy->torch) (1.3.0)\n",
      "Note: you may need to restart the kernel to use updated packages.\n"
     ]
    }
   ],
   "source": [
    "pip install torch"
   ]
  },
  {
   "cell_type": "code",
   "execution_count": 5,
   "id": "7901d608",
   "metadata": {},
   "outputs": [
    {
     "name": "stderr",
     "output_type": "stream",
     "text": [
      "Some weights of BertForSequenceClassification were not initialized from the model checkpoint at bert-base-uncased and are newly initialized: ['classifier.bias', 'classifier.weight']\n",
      "You should probably TRAIN this model on a down-stream task to be able to use it for predictions and inference.\n"
     ]
    },
    {
     "name": "stdout",
     "output_type": "stream",
     "text": [
      "Is there an error in the text? False\n"
     ]
    }
   ],
   "source": [
    "from transformers import BertTokenizer, BertForSequenceClassification\n",
    "import torch\n",
    "\n",
    "def detect_errors(sentence):\n",
    "    # Load pre-trained BERT model and tokenizer for sequence classification\n",
    "    model_name = 'bert-base-uncased'\n",
    "    model = BertForSequenceClassification.from_pretrained(model_name)\n",
    "    tokenizer = BertTokenizer.from_pretrained(model_name)\n",
    "\n",
    "    # Tokenize input sentence\n",
    "    inputs = tokenizer(sentence, return_tensors=\"pt\")\n",
    "\n",
    "    # Get model prediction\n",
    "    outputs = model(**inputs)\n",
    "    logits = outputs.logits\n",
    "    probabilities = torch.nn.functional.softmax(logits, dim=1)\n",
    "    predicted_label = torch.argmax(probabilities, dim=1).item()\n",
    "\n",
    "    # For simplicity, let's assume label 1 indicates an error\n",
    "    return predicted_label == 1\n",
    "\n",
    "# Example usage\n",
    "text = \"This is an example sentece with sme mistkes.\"\n",
    "is_error = detect_errors(text)\n",
    "print(\"Is there an error in the text?\", is_error)"
   ]
  },
  {
   "cell_type": "code",
   "execution_count": null,
   "id": "b7743948",
   "metadata": {},
   "outputs": [],
   "source": []
  }
 ],
 "metadata": {
  "kernelspec": {
   "display_name": "Python 3 (ipykernel)",
   "language": "python",
   "name": "python3"
  },
  "language_info": {
   "codemirror_mode": {
    "name": "ipython",
    "version": 3
   },
   "file_extension": ".py",
   "mimetype": "text/x-python",
   "name": "python",
   "nbconvert_exporter": "python",
   "pygments_lexer": "ipython3",
   "version": "3.11.5"
  }
 },
 "nbformat": 4,
 "nbformat_minor": 5
}
